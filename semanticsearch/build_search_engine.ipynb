{
 "cells": [
  {
   "cell_type": "code",
   "execution_count": 1,
   "metadata": {},
   "outputs": [],
   "source": [
    "#haystack FAISS\n",
    "\n",
    "import pandas as pd\n",
    "from haystack.document_stores import FAISSDocumentStore\n",
    "from haystack.nodes import EmbeddingRetriever\n"
   ]
  },
  {
   "cell_type": "code",
   "execution_count": 2,
   "metadata": {},
   "outputs": [
    {
     "data": {
      "text/html": [
       "<div>\n",
       "<style scoped>\n",
       "    .dataframe tbody tr th:only-of-type {\n",
       "        vertical-align: middle;\n",
       "    }\n",
       "\n",
       "    .dataframe tbody tr th {\n",
       "        vertical-align: top;\n",
       "    }\n",
       "\n",
       "    .dataframe thead th {\n",
       "        text-align: right;\n",
       "    }\n",
       "</style>\n",
       "<table border=\"1\" class=\"dataframe\">\n",
       "  <thead>\n",
       "    <tr style=\"text-align: right;\">\n",
       "      <th></th>\n",
       "      <th>index</th>\n",
       "      <th>Time</th>\n",
       "      <th>cleaned_tweet</th>\n",
       "      <th>sent_analysis</th>\n",
       "    </tr>\n",
       "  </thead>\n",
       "  <tbody>\n",
       "    <tr>\n",
       "      <th>0</th>\n",
       "      <td>0</td>\n",
       "      <td>2009-12-28 21:37:33+00:00</td>\n",
       "      <td>@user i think women who choose natural are like super heroes! especially sin...</td>\n",
       "      <td>{'label': 'positive', 'score': 0.8187388181686401}</td>\n",
       "    </tr>\n",
       "    <tr>\n",
       "      <th>1</th>\n",
       "      <td>1</td>\n",
       "      <td>2009-12-05 01:52:13+00:00</td>\n",
       "      <td>@user the bradley method is husband coached birth- where he takes the lead i...</td>\n",
       "      <td>{'label': 'neutral', 'score': 0.9033392667770386}</td>\n",
       "    </tr>\n",
       "    <tr>\n",
       "      <th>2</th>\n",
       "      <td>2</td>\n",
       "      <td>2009-12-01 18:43:35+00:00</td>\n",
       "      <td>my sister wanted to do a natural birth but she has now been in labor for 7 h...</td>\n",
       "      <td>{'label': 'negative', 'score': 0.7766241431236267}</td>\n",
       "    </tr>\n",
       "    <tr>\n",
       "      <th>3</th>\n",
       "      <td>3</td>\n",
       "      <td>2009-11-13 22:24:00+00:00</td>\n",
       "      <td>#haveababybyme u betta have health insurance cuz a natural birth and whatchu...</td>\n",
       "      <td>{'label': 'negative', 'score': 0.6303679347038269}</td>\n",
       "    </tr>\n",
       "    <tr>\n",
       "      <th>4</th>\n",
       "      <td>4</td>\n",
       "      <td>2009-11-09 00:56:08+00:00</td>\n",
       "      <td>my co-workers wife just gave natural birth to a 9.5 pound baby this am after...</td>\n",
       "      <td>{'label': 'negative', 'score': 0.8341954946517944}</td>\n",
       "    </tr>\n",
       "    <tr>\n",
       "      <th>...</th>\n",
       "      <td>...</td>\n",
       "      <td>...</td>\n",
       "      <td>...</td>\n",
       "      <td>...</td>\n",
       "    </tr>\n",
       "    <tr>\n",
       "      <th>431519</th>\n",
       "      <td>431519</td>\n",
       "      <td>2018-01-01 04:47:59+00:00</td>\n",
       "      <td>@user damn. i had a 24 hr labour but with the aid of a blessed epidural</td>\n",
       "      <td>{'label': 'neutral', 'score': 0.37650564312934875}</td>\n",
       "    </tr>\n",
       "    <tr>\n",
       "      <th>431520</th>\n",
       "      <td>431520</td>\n",
       "      <td>2018-01-01 03:07:46+00:00</td>\n",
       "      <td>@user @user @user speaking as someone who had her epidural installed incorre...</td>\n",
       "      <td>{'label': 'negative', 'score': 0.49432462453842163}</td>\n",
       "    </tr>\n",
       "    <tr>\n",
       "      <th>431521</th>\n",
       "      <td>431521</td>\n",
       "      <td>2018-01-01 01:28:34+00:00</td>\n",
       "      <td>@user well yeah if you don't have an epidural</td>\n",
       "      <td>{'label': 'neutral', 'score': 0.7822378873825073}</td>\n",
       "    </tr>\n",
       "    <tr>\n",
       "      <th>431522</th>\n",
       "      <td>431522</td>\n",
       "      <td>2018-01-01 01:09:31+00:00</td>\n",
       "      <td>@user yeah i’m definitely terrified of having babies at the moment but i’m g...</td>\n",
       "      <td>{'label': 'negative', 'score': 0.6401897072792053}</td>\n",
       "    </tr>\n",
       "    <tr>\n",
       "      <th>431523</th>\n",
       "      <td>431523</td>\n",
       "      <td>2018-01-01 00:22:54+00:00</td>\n",
       "      <td>@user i had a 1 degree rip &amp;amp; i kept putting that numbing medicine in me ...</td>\n",
       "      <td>{'label': 'negative', 'score': 0.6211128830909729}</td>\n",
       "    </tr>\n",
       "  </tbody>\n",
       "</table>\n",
       "<p>431524 rows × 4 columns</p>\n",
       "</div>"
      ],
      "text/plain": [
       "         index                       Time  \\\n",
       "0            0  2009-12-28 21:37:33+00:00   \n",
       "1            1  2009-12-05 01:52:13+00:00   \n",
       "2            2  2009-12-01 18:43:35+00:00   \n",
       "3            3  2009-11-13 22:24:00+00:00   \n",
       "4            4  2009-11-09 00:56:08+00:00   \n",
       "...        ...                        ...   \n",
       "431519  431519  2018-01-01 04:47:59+00:00   \n",
       "431520  431520  2018-01-01 03:07:46+00:00   \n",
       "431521  431521  2018-01-01 01:28:34+00:00   \n",
       "431522  431522  2018-01-01 01:09:31+00:00   \n",
       "431523  431523  2018-01-01 00:22:54+00:00   \n",
       "\n",
       "                                                                          cleaned_tweet  \\\n",
       "0       @user i think women who choose natural are like super heroes! especially sin...   \n",
       "1       @user the bradley method is husband coached birth- where he takes the lead i...   \n",
       "2       my sister wanted to do a natural birth but she has now been in labor for 7 h...   \n",
       "3       #haveababybyme u betta have health insurance cuz a natural birth and whatchu...   \n",
       "4       my co-workers wife just gave natural birth to a 9.5 pound baby this am after...   \n",
       "...                                                                                 ...   \n",
       "431519          @user damn. i had a 24 hr labour but with the aid of a blessed epidural   \n",
       "431520  @user @user @user speaking as someone who had her epidural installed incorre...   \n",
       "431521                                    @user well yeah if you don't have an epidural   \n",
       "431522  @user yeah i’m definitely terrified of having babies at the moment but i’m g...   \n",
       "431523  @user i had a 1 degree rip &amp; i kept putting that numbing medicine in me ...   \n",
       "\n",
       "                                              sent_analysis  \n",
       "0        {'label': 'positive', 'score': 0.8187388181686401}  \n",
       "1         {'label': 'neutral', 'score': 0.9033392667770386}  \n",
       "2        {'label': 'negative', 'score': 0.7766241431236267}  \n",
       "3        {'label': 'negative', 'score': 0.6303679347038269}  \n",
       "4        {'label': 'negative', 'score': 0.8341954946517944}  \n",
       "...                                                     ...  \n",
       "431519   {'label': 'neutral', 'score': 0.37650564312934875}  \n",
       "431520  {'label': 'negative', 'score': 0.49432462453842163}  \n",
       "431521    {'label': 'neutral', 'score': 0.7822378873825073}  \n",
       "431522   {'label': 'negative', 'score': 0.6401897072792053}  \n",
       "431523   {'label': 'negative', 'score': 0.6211128830909729}  \n",
       "\n",
       "[431524 rows x 4 columns]"
      ]
     },
     "execution_count": 2,
     "metadata": {},
     "output_type": "execute_result"
    }
   ],
   "source": [
    "\n",
    "df = pd.read_csv('/home/karl/PycharmProjects/farm_haystack/filtered_df.csv')\n",
    "df.reset_index(inplace=True)\n",
    "df"
   ]
  },
  {
   "cell_type": "code",
   "execution_count": 3,
   "metadata": {},
   "outputs": [],
   "source": [
    "dicts = []\n",
    "for i in df.itertuples():\n",
    "    d = {\n",
    "        'content': i[3],\n",
    "        'meta': {\n",
    "            'index': i[1],\n",
    "            'sentiment': i[4],\n",
    "            'time': i[2],\n",
    "        }\n",
    "    }\n",
    "    dicts.append(d)\n"
   ]
  },
  {
   "cell_type": "code",
   "execution_count": 4,
   "metadata": {},
   "outputs": [
    {
     "data": {
      "text/plain": [
       "{'content': '@user i think women who choose natural are like super heroes! especially since giving birth. epi though. caved bc of back labor.',\n",
       " 'meta': {'index': 0,\n",
       "  'sentiment': \"{'label': 'positive', 'score': 0.8187388181686401}\",\n",
       "  'time': '2009-12-28 21:37:33+00:00'}}"
      ]
     },
     "execution_count": 4,
     "metadata": {},
     "output_type": "execute_result"
    }
   ],
   "source": [
    "dicts[0]"
   ]
  },
  {
   "cell_type": "code",
   "execution_count": 5,
   "metadata": {},
   "outputs": [],
   "source": [
    "document_store = FAISSDocumentStore(faiss_index_factory_str=\"Flat\")\n",
    "document_store.save(index_path=\"my_faiss_index.faiss\")"
   ]
  },
  {
   "cell_type": "code",
   "execution_count": 6,
   "metadata": {},
   "outputs": [
    {
     "name": "stderr",
     "output_type": "stream",
     "text": [
      "/home/karl/mambaforge/envs/farm_haystack/lib/python3.8/site-packages/torch/_utils.py:776: UserWarning: TypedStorage is deprecated. It will be removed in the future and UntypedStorage will be the only storage class. This should only matter to you if you are using storages directly.  To access UntypedStorage directly, use tensor.untyped_storage() instead of tensor.storage()\n",
      "  return self.fget.__get__(instance, owner)()\n"
     ]
    }
   ],
   "source": [
    "retriever = EmbeddingRetriever(document_store = document_store, embedding_model='distilroberta-base-msmarco-v2',model_format='sentence_transformers', use_gpu=True, batch_size=64)"
   ]
  },
  {
   "cell_type": "code",
   "execution_count": null,
   "metadata": {
    "pycharm": {
     "is_executing": true
    }
   },
   "outputs": [
    {
     "data": {
      "application/vnd.jupyter.widget-view+json": {
       "model_id": "337761409b3740afaa08b123b9747e80",
       "version_major": 2,
       "version_minor": 0
      },
      "text/plain": [
       "Writing Documents:   0%|          | 0/431524 [00:00<?, ?it/s]"
      ]
     },
     "metadata": {},
     "output_type": "display_data"
    }
   ],
   "source": [
    "document_store.write_documents(dicts)\n",
    "document_store.update_embeddings(retriever=retriever)"
   ]
  },
  {
   "cell_type": "code",
   "execution_count": null,
   "metadata": {
    "pycharm": {
     "is_executing": true
    }
   },
   "outputs": [],
   "source": [
    "def get_results(query, retriever, n_res = 1000):\n",
    "    return [item for item in retriever.retrieve(query, top_k = n_res)]"
   ]
  },
  {
   "cell_type": "code",
   "execution_count": null,
   "metadata": {
    "pycharm": {
     "is_executing": true
    }
   },
   "outputs": [],
   "source": [
    "epidural_query = 'epidural labor'\n",
    "epi_results = get_results(epidural_query, retriever)"
   ]
  },
  {
   "cell_type": "code",
   "execution_count": null,
   "metadata": {
    "pycharm": {
     "is_executing": true
    }
   },
   "outputs": [],
   "source": [
    "natural_query = 'natural labor'\n",
    "natural_results = get_results(epidural_query, retriever)"
   ]
  },
  {
   "cell_type": "code",
   "execution_count": null,
   "metadata": {
    "pycharm": {
     "is_executing": true
    }
   },
   "outputs": [],
   "source": [
    "for r in epi_results:\n",
    "    print(r.content, \"|||\" ,r.meta.sentiment)"
   ]
  },
  {
   "cell_type": "code",
   "execution_count": null,
   "metadata": {
    "pycharm": {
     "is_executing": true
    }
   },
   "outputs": [],
   "source": [
    "for r in natural_results:\n",
    "    print(r.content,\"|||\",r.meta.sentiment)"
   ]
  },
  {
   "cell_type": "code",
   "execution_count": null,
   "metadata": {
    "pycharm": {
     "is_executing": true
    }
   },
   "outputs": [],
   "source": [
    "f = open('semantic_search_results.txt')"
   ]
  },
  {
   "cell_type": "code",
   "execution_count": null,
   "metadata": {},
   "outputs": [],
   "source": [
    "for r in epi_results:\n",
    "    f.write(r.content,\"|||\",r.meta.sentiment,'\\n')"
   ]
  },
  {
   "cell_type": "code",
   "execution_count": null,
   "metadata": {},
   "outputs": [],
   "source": [
    "for r in natural_results:\n",
    "    f.write(r.content,\"|||\",r.meta.sentiment,'\\n')"
   ]
  },
  {
   "cell_type": "code",
   "execution_count": null,
   "metadata": {},
   "outputs": [],
   "source": []
  }
 ],
 "metadata": {
  "kernelspec": {
   "display_name": "Python 3 (ipykernel)",
   "language": "python",
   "name": "python3"
  },
  "language_info": {
   "codemirror_mode": {
    "name": "ipython",
    "version": 3
   },
   "file_extension": ".py",
   "mimetype": "text/x-python",
   "name": "python",
   "nbconvert_exporter": "python",
   "pygments_lexer": "ipython3",
   "version": "3.8.16"
  }
 },
 "nbformat": 4,
 "nbformat_minor": 1
}
